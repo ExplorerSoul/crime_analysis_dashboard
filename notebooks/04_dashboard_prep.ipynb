{
 "cells": [
  {
   "cell_type": "code",
   "execution_count": 1,
   "id": "99e5a16a-2936-4393-8509-8400532cfb36",
   "metadata": {},
   "outputs": [
    {
     "name": "stdout",
     "output_type": "stream",
     "text": [
      "✅ Dashboard dataset ready: outputs/dashboard_ready.csv\n"
     ]
    }
   ],
   "source": [
    "import pandas as pd\n",
    "\n",
    "# Prepare dataset for Streamlit\n",
    "df = pd.read_csv(\"../outputs/cleaned_crime.csv\")\n",
    "\n",
    "# Add per capita rate\n",
    "df[\"crime_rate_per_100k\"] = (df[\"total_crimes\"] / (df[\"population_lakhs\"] * 100000)) * 100000\n",
    "\n",
    "# Save for dashboard\n",
    "df.to_csv(\"../outputs/dashboard_ready.csv\", index=False)\n",
    "print(\"✅ Dashboard dataset ready: outputs/dashboard_ready.csv\")\n"
   ]
  },
  {
   "cell_type": "code",
   "execution_count": null,
   "id": "6ad16284-a16c-4d66-9866-09bb456967de",
   "metadata": {},
   "outputs": [],
   "source": []
  }
 ],
 "metadata": {
  "kernelspec": {
   "display_name": "Python 3 (ipykernel)",
   "language": "python",
   "name": "python3"
  },
  "language_info": {
   "codemirror_mode": {
    "name": "ipython",
    "version": 3
   },
   "file_extension": ".py",
   "mimetype": "text/x-python",
   "name": "python",
   "nbconvert_exporter": "python",
   "pygments_lexer": "ipython3",
   "version": "3.12.0"
  }
 },
 "nbformat": 4,
 "nbformat_minor": 5
}
